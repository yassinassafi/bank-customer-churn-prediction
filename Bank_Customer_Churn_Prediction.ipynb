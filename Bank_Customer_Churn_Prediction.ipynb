{
  "nbformat": 4,
  "nbformat_minor": 0,
  "metadata": {
    "colab": {
      "name": "Bank_Customer_Churn_Prediction.ipynb",
      "provenance": [],
      "collapsed_sections": [
        "lAsvHMNAc-Nw",
        "TmPPtyLn8PNf"
      ],
      "mount_file_id": "10fuhEoVgv0DTF9lUkF-kzQAEK88wJgXc",
      "authorship_tag": "ABX9TyNfs+r2ikJqQQEVX7X9NvJe"
    },
    "kernelspec": {
      "name": "python3",
      "display_name": "Python 3"
    },
    "accelerator": "GPU"
  },
  "cells": [
    {
      "cell_type": "code",
      "metadata": {
        "id": "8OivXrWEHkla"
      },
      "source": [
        "import pandas as pd\n",
        "import numpy as np\n",
        "import matplotlib.pyplot as plt\n",
        "\n",
        "import warnings\n",
        "warnings.filterwarnings('ignore')\n",
        "\n",
        "from IPython.display import clear_output"
      ],
      "execution_count": 2,
      "outputs": []
    },
    {
      "cell_type": "code",
      "metadata": {
        "id": "Xjccd2BCR1ZC"
      },
      "source": [
        "# fix random seed for reproducibility\n",
        "seed = 7\n",
        "np.random.seed(seed)"
      ],
      "execution_count": 3,
      "outputs": []
    },
    {
      "cell_type": "markdown",
      "metadata": {
        "id": "lAsvHMNAc-Nw"
      },
      "source": [
        "# **Configure GPU Acceleration**"
      ]
    },
    {
      "cell_type": "code",
      "metadata": {
        "colab": {
          "base_uri": "https://localhost:8080/"
        },
        "id": "M4ztGLl_nh2c",
        "outputId": "27283c8d-65f9-4176-db95-1249a359d051"
      },
      "source": [
        "from google.colab import drive\n",
        "drive.mount('/content/drive')"
      ],
      "execution_count": null,
      "outputs": [
        {
          "output_type": "stream",
          "text": [
            "Mounted at /content/drive\n"
          ],
          "name": "stdout"
        }
      ]
    },
    {
      "cell_type": "code",
      "metadata": {
        "colab": {
          "base_uri": "https://localhost:8080/"
        },
        "id": "dBBPDMKXdDIW",
        "outputId": "67826598-8d63-48fd-bfb3-d69cbdac944a"
      },
      "source": [
        "!nvidia-smi"
      ],
      "execution_count": 4,
      "outputs": [
        {
          "output_type": "stream",
          "text": [
            "Thu Mar 25 22:15:25 2021       \n",
            "+-----------------------------------------------------------------------------+\n",
            "| NVIDIA-SMI 460.56       Driver Version: 460.32.03    CUDA Version: 11.2     |\n",
            "|-------------------------------+----------------------+----------------------+\n",
            "| GPU  Name        Persistence-M| Bus-Id        Disp.A | Volatile Uncorr. ECC |\n",
            "| Fan  Temp  Perf  Pwr:Usage/Cap|         Memory-Usage | GPU-Util  Compute M. |\n",
            "|                               |                      |               MIG M. |\n",
            "|===============================+======================+======================|\n",
            "|   0  Tesla T4            Off  | 00000000:00:04.0 Off |                    0 |\n",
            "| N/A   47C    P8    10W /  70W |      0MiB / 15109MiB |      0%      Default |\n",
            "|                               |                      |                  N/A |\n",
            "+-------------------------------+----------------------+----------------------+\n",
            "                                                                               \n",
            "+-----------------------------------------------------------------------------+\n",
            "| Processes:                                                                  |\n",
            "|  GPU   GI   CI        PID   Type   Process name                  GPU Memory |\n",
            "|        ID   ID                                                   Usage      |\n",
            "|=============================================================================|\n",
            "|  No running processes found                                                 |\n",
            "+-----------------------------------------------------------------------------+\n"
          ],
          "name": "stdout"
        }
      ]
    },
    {
      "cell_type": "code",
      "metadata": {
        "colab": {
          "base_uri": "https://localhost:8080/"
        },
        "id": "HkCZKJQOgoPi",
        "outputId": "49d5b11b-b1ef-4d9e-b570-6dbf980f887f"
      },
      "source": [
        "%tensorflow_version 2.x\n",
        "import tensorflow as tf\n",
        "device_name = tf.test.gpu_device_name()\n",
        "if device_name != '/device:GPU:0':\n",
        "  raise SystemError('GPU device not found')\n",
        "print('Found GPU at: {}'.format(device_name))"
      ],
      "execution_count": 23,
      "outputs": [
        {
          "output_type": "stream",
          "text": [
            "Found GPU at: /device:GPU:0\n"
          ],
          "name": "stdout"
        }
      ]
    },
    {
      "cell_type": "code",
      "metadata": {
        "colab": {
          "base_uri": "https://localhost:8080/"
        },
        "id": "_83LF9zNdUuS",
        "outputId": "b1e00127-b26d-4635-98d3-1f3f90d52041"
      },
      "source": [
        "from tensorflow.python.client import device_lib\n",
        "device_lib.list_local_devices()"
      ],
      "execution_count": 5,
      "outputs": [
        {
          "output_type": "execute_result",
          "data": {
            "text/plain": [
              "[name: \"/device:CPU:0\"\n",
              " device_type: \"CPU\"\n",
              " memory_limit: 268435456\n",
              " locality {\n",
              " }\n",
              " incarnation: 10035136589687616099, name: \"/device:GPU:0\"\n",
              " device_type: \"GPU\"\n",
              " memory_limit: 14674281152\n",
              " locality {\n",
              "   bus_id: 1\n",
              "   links {\n",
              "   }\n",
              " }\n",
              " incarnation: 10660773902960875991\n",
              " physical_device_desc: \"device: 0, name: Tesla T4, pci bus id: 0000:00:04.0, compute capability: 7.5\"]"
            ]
          },
          "metadata": {
            "tags": []
          },
          "execution_count": 5
        }
      ]
    },
    {
      "cell_type": "code",
      "metadata": {
        "colab": {
          "base_uri": "https://localhost:8080/"
        },
        "id": "hn8wxghMflkg",
        "outputId": "c6c1183c-9580-49a8-8c29-2906cfe50f2e"
      },
      "source": [
        "import tensorflow as tf\n",
        "sess = tf.compat.v1.Session(config=tf.compat.v1.ConfigProto(log_device_placement=True))"
      ],
      "execution_count": 22,
      "outputs": [
        {
          "output_type": "stream",
          "text": [
            "Device mapping:\n",
            "/job:localhost/replica:0/task:0/device:GPU:0 -> device: 0, name: Tesla T4, pci bus id: 0000:00:04.0, compute capability: 7.5\n",
            "\n"
          ],
          "name": "stdout"
        }
      ]
    },
    {
      "cell_type": "markdown",
      "metadata": {
        "id": "gzDMz4ucm6Ab"
      },
      "source": [
        "# **Data Preprocessing**"
      ]
    },
    {
      "cell_type": "code",
      "metadata": {
        "colab": {
          "base_uri": "https://localhost:8080/",
          "height": 156
        },
        "id": "DcJjTqb_ozud",
        "outputId": "94fc4d05-fee2-425d-80ca-09840702d435"
      },
      "source": [
        "file_path = '/content/drive/My Drive/Churn_Modelling.csv'\n",
        "\n",
        "df = pd.read_csv(file_path, index_col='RowNumber').reset_index(drop=True)\n",
        "print('Dataframe shape :', df.shape)\n",
        "df.head(3)"
      ],
      "execution_count": 6,
      "outputs": [
        {
          "output_type": "stream",
          "text": [
            "Dataframe shape : (10000, 13)\n"
          ],
          "name": "stdout"
        },
        {
          "output_type": "execute_result",
          "data": {
            "text/html": [
              "<div>\n",
              "<style scoped>\n",
              "    .dataframe tbody tr th:only-of-type {\n",
              "        vertical-align: middle;\n",
              "    }\n",
              "\n",
              "    .dataframe tbody tr th {\n",
              "        vertical-align: top;\n",
              "    }\n",
              "\n",
              "    .dataframe thead th {\n",
              "        text-align: right;\n",
              "    }\n",
              "</style>\n",
              "<table border=\"1\" class=\"dataframe\">\n",
              "  <thead>\n",
              "    <tr style=\"text-align: right;\">\n",
              "      <th></th>\n",
              "      <th>CustomerId</th>\n",
              "      <th>Surname</th>\n",
              "      <th>CreditScore</th>\n",
              "      <th>Geography</th>\n",
              "      <th>Gender</th>\n",
              "      <th>Age</th>\n",
              "      <th>Tenure</th>\n",
              "      <th>Balance</th>\n",
              "      <th>NumOfProducts</th>\n",
              "      <th>HasCrCard</th>\n",
              "      <th>IsActiveMember</th>\n",
              "      <th>EstimatedSalary</th>\n",
              "      <th>Exited</th>\n",
              "    </tr>\n",
              "  </thead>\n",
              "  <tbody>\n",
              "    <tr>\n",
              "      <th>0</th>\n",
              "      <td>15634602</td>\n",
              "      <td>Hargrave</td>\n",
              "      <td>619</td>\n",
              "      <td>France</td>\n",
              "      <td>Female</td>\n",
              "      <td>42</td>\n",
              "      <td>2</td>\n",
              "      <td>0.00</td>\n",
              "      <td>1</td>\n",
              "      <td>1</td>\n",
              "      <td>1</td>\n",
              "      <td>101348.88</td>\n",
              "      <td>1</td>\n",
              "    </tr>\n",
              "    <tr>\n",
              "      <th>1</th>\n",
              "      <td>15647311</td>\n",
              "      <td>Hill</td>\n",
              "      <td>608</td>\n",
              "      <td>Spain</td>\n",
              "      <td>Female</td>\n",
              "      <td>41</td>\n",
              "      <td>1</td>\n",
              "      <td>83807.86</td>\n",
              "      <td>1</td>\n",
              "      <td>0</td>\n",
              "      <td>1</td>\n",
              "      <td>112542.58</td>\n",
              "      <td>0</td>\n",
              "    </tr>\n",
              "    <tr>\n",
              "      <th>2</th>\n",
              "      <td>15619304</td>\n",
              "      <td>Onio</td>\n",
              "      <td>502</td>\n",
              "      <td>France</td>\n",
              "      <td>Female</td>\n",
              "      <td>42</td>\n",
              "      <td>8</td>\n",
              "      <td>159660.80</td>\n",
              "      <td>3</td>\n",
              "      <td>1</td>\n",
              "      <td>0</td>\n",
              "      <td>113931.57</td>\n",
              "      <td>1</td>\n",
              "    </tr>\n",
              "  </tbody>\n",
              "</table>\n",
              "</div>"
            ],
            "text/plain": [
              "   CustomerId   Surname  CreditScore  ... IsActiveMember EstimatedSalary  Exited\n",
              "0    15634602  Hargrave          619  ...              1       101348.88       1\n",
              "1    15647311      Hill          608  ...              1       112542.58       0\n",
              "2    15619304      Onio          502  ...              0       113931.57       1\n",
              "\n",
              "[3 rows x 13 columns]"
            ]
          },
          "metadata": {
            "tags": []
          },
          "execution_count": 6
        }
      ]
    },
    {
      "cell_type": "code",
      "metadata": {
        "id": "Ip2iPmodo5dm"
      },
      "source": [
        "#Retrieve relevant features by excluding : 'CustomerId', 'Surname', 'Exited' \n",
        "columns = df.columns.to_list()[2:-1]\n",
        "X = df[columns]\n",
        "\n",
        "#Retrieve target column\n",
        "y = df['Exited']"
      ],
      "execution_count": 7,
      "outputs": []
    },
    {
      "cell_type": "code",
      "metadata": {
        "id": "eN3su5WIi1gc"
      },
      "source": [
        "from sklearn.model_selection import train_test_split\n",
        "from sklearn.preprocessing import OrdinalEncoder, OneHotEncoder, StandardScaler\n",
        "from sklearn.pipeline import Pipeline, FeatureUnion\n",
        "from sklearn.compose import ColumnTransformer"
      ],
      "execution_count": 8,
      "outputs": []
    },
    {
      "cell_type": "code",
      "metadata": {
        "id": "jdKIlMsmkpT0"
      },
      "source": [
        "categorical_encoder = ColumnTransformer(transformers = [('geo_encoder', OneHotEncoder(drop='first'), ['Geography']),\n",
        "                                                        ('gen_encoder', OrdinalEncoder(), ['Gender'])], \n",
        "                                        remainder = 'passthrough')\n",
        "\n",
        "\n",
        "pipe = Pipeline(steps = [('encoder', categorical_encoder), \n",
        "                         ('scaler', StandardScaler())])"
      ],
      "execution_count": 9,
      "outputs": []
    },
    {
      "cell_type": "code",
      "metadata": {
        "id": "TrA4QXn_mohT"
      },
      "source": [
        "#Split to train/test datasets\n",
        "X_train, X_test, y_train, y_test = train_test_split(X, y, test_size=0.30, random_state=42)"
      ],
      "execution_count": 10,
      "outputs": []
    },
    {
      "cell_type": "code",
      "metadata": {
        "id": "MqYQocs4m9Cp"
      },
      "source": [
        "X_train = pipe.fit_transform(X_train)\n",
        "X_test = pipe.transform(X_test)"
      ],
      "execution_count": 11,
      "outputs": []
    },
    {
      "cell_type": "markdown",
      "metadata": {
        "id": "Hgb4g3QLlf7V"
      },
      "source": [
        "# **Hyperparameter Tuning**"
      ]
    },
    {
      "cell_type": "markdown",
      "metadata": {
        "id": "TmPPtyLn8PNf"
      },
      "source": [
        "### **Baseline model**"
      ]
    },
    {
      "cell_type": "code",
      "metadata": {
        "colab": {
          "base_uri": "https://localhost:8080/"
        },
        "id": "vynBOYZH8VC8",
        "outputId": "d1bd1ecd-9dfc-4cf6-8be9-672b93842b41"
      },
      "source": [
        "from sklearn.linear_model import LogisticRegression\n",
        "\n",
        "baseline = LogisticRegression()\n",
        "baseline.fit(X_train, y_train)\n",
        "baseline.score(X_test, y_test)"
      ],
      "execution_count": 12,
      "outputs": [
        {
          "output_type": "execute_result",
          "data": {
            "text/plain": [
              "0.8113333333333334"
            ]
          },
          "metadata": {
            "tags": []
          },
          "execution_count": 12
        }
      ]
    },
    {
      "cell_type": "markdown",
      "metadata": {
        "id": "ibtTuVqN9Qkj"
      },
      "source": [
        "### **Regular Neural Network**"
      ]
    },
    {
      "cell_type": "code",
      "metadata": {
        "id": "5FclPWbFu6yw"
      },
      "source": [
        "from tensorflow.keras.models import Sequential\n",
        "from tensorflow.keras.layers import Dense, Dropout, PReLU\n",
        "from tensorflow.keras.regularizers import l1, l1_l2\n",
        "from keras.wrappers.scikit_learn import KerasClassifier\n",
        "from tensorflow.keras.callbacks import EarlyStopping\n",
        "\n",
        "def create_model(neurons=10, activation='relu', regularizer=l1(l=0.1), optimizer='adam', dropout_rate=0.0):\n",
        "  with tf.device('/device:GPU:0'):\n",
        "    #creation\n",
        "    model = Sequential()\n",
        "    model.add(Dense(units=neurons, kernel_initializer='uniform', activation=activation))\n",
        "    model.add(Dense(units=neurons, kernel_initializer='uniform', kernel_regularizer=regularizer, activation=activation))\n",
        "    model.add(Dropout(dropout_rate))\n",
        "    model.add(Dense(units=1, kernel_initializer='uniform', activation='sigmoid'))\n",
        "    #compilation\n",
        "    model.compile(optimizer = optimizer , loss='binary_crossentropy', metrics=['accuracy'])\n",
        "\n",
        "  return model\n",
        "\n",
        "early_stopping = EarlyStopping(monitor='val_loss', patience=5) \n",
        "\n",
        "model = KerasClassifier(build_fn=create_model, epochs=20, batch_size=10, verbose=0)"
      ],
      "execution_count": 38,
      "outputs": []
    },
    {
      "cell_type": "markdown",
      "metadata": {
        "id": "xsaJCVa8GSss"
      },
      "source": [
        "#### **Tuning** : epochs, batch_size, optimizers "
      ]
    },
    {
      "cell_type": "code",
      "metadata": {
        "colab": {
          "base_uri": "https://localhost:8080/"
        },
        "id": "3gd3KVbDgbgX",
        "outputId": "d9acf202-81f2-4239-9fb4-78aeb946f927"
      },
      "source": [
        "from sklearn.model_selection import GridSearchCV\n",
        "\n",
        "batch_size = [10, 20]\n",
        "epochs = [100, 150]\n",
        "optimizer = ['adam', 'RMSprop']\n",
        "\n",
        "param_grid = dict(batch_size=batch_size, epochs=epochs, optimizer=optimizer)\n",
        "\n",
        "grid = GridSearchCV(estimator=model, param_grid=param_grid, n_jobs=2, cv=5, verbose=1)\n",
        "\n",
        "with tf.device('/device:GPU:0'):\n",
        "  grid_result = grid.fit(X_train, y_train)"
      ],
      "execution_count": 40,
      "outputs": [
        {
          "output_type": "stream",
          "text": [
            "Fitting 5 folds for each of 8 candidates, totalling 40 fits\n"
          ],
          "name": "stdout"
        },
        {
          "output_type": "stream",
          "text": [
            "[Parallel(n_jobs=2)]: Using backend LokyBackend with 2 concurrent workers.\n",
            "[Parallel(n_jobs=2)]: Done  40 out of  40 | elapsed: 33.5min finished\n"
          ],
          "name": "stderr"
        }
      ]
    },
    {
      "cell_type": "code",
      "metadata": {
        "colab": {
          "base_uri": "https://localhost:8080/"
        },
        "id": "Fkdwv1XUTKZL",
        "outputId": "ece275e7-1f0e-4180-f228-5326a54ee1d3"
      },
      "source": [
        "# summarize results\n",
        "print(\"Best: %f using %s\" % (grid_result.best_score_, grid_result.best_params_))\n",
        "means = grid_result.cv_results_['mean_test_score']\n",
        "stds = grid_result.cv_results_['std_test_score']\n",
        "params = grid_result.cv_results_['params']\n",
        "for mean, stdev, param in zip(means, stds, params):\n",
        "    print(\"%f (%f) with: %r\" % (mean, stdev, param))"
      ],
      "execution_count": 41,
      "outputs": [
        {
          "output_type": "stream",
          "text": [
            "Best: 0.856286 using {'batch_size': 10, 'epochs': 150, 'optimizer': 'adam'}\n",
            "0.852714 (0.009902) with: {'batch_size': 10, 'epochs': 100, 'optimizer': 'adam'}\n",
            "0.844571 (0.017691) with: {'batch_size': 10, 'epochs': 100, 'optimizer': 'RMSprop'}\n",
            "0.856286 (0.009405) with: {'batch_size': 10, 'epochs': 150, 'optimizer': 'adam'}\n",
            "0.853571 (0.009069) with: {'batch_size': 10, 'epochs': 150, 'optimizer': 'RMSprop'}\n",
            "0.849429 (0.009470) with: {'batch_size': 20, 'epochs': 100, 'optimizer': 'adam'}\n",
            "0.843429 (0.014007) with: {'batch_size': 20, 'epochs': 100, 'optimizer': 'RMSprop'}\n",
            "0.852429 (0.005761) with: {'batch_size': 20, 'epochs': 150, 'optimizer': 'adam'}\n",
            "0.852143 (0.011176) with: {'batch_size': 20, 'epochs': 150, 'optimizer': 'RMSprop'}\n"
          ],
          "name": "stdout"
        }
      ]
    },
    {
      "cell_type": "markdown",
      "metadata": {
        "id": "QFLOt-Rwe634"
      },
      "source": [
        "# **Training model**"
      ]
    },
    {
      "cell_type": "code",
      "metadata": {
        "id": "em5g-2xYhfZL"
      },
      "source": [
        "from tensorflow.keras.callbacks import EarlyStopping, ModelCheckpoint\n",
        "from tensorflow.keras.models import load_model\n",
        "\n",
        "#Early Stopping\n",
        "early_stopping = EarlyStopping(monitor='val_loss', patience=10)  \n",
        "\n",
        "#Model Checkpoint\n",
        "model_chechpoint = ModelCheckpoint(filepath='best_clf.h5', monitor='val_loss', save_best_only=True)\n",
        "\n",
        "#Create model\n",
        "clf = create_model()\n",
        "\n",
        "#Training\n",
        "fitting = clf.fit(X_train, y_train, \n",
        "                  validation_split=0.2, \n",
        "                  batch_size=10, \n",
        "                  epochs=150, \n",
        "                  callbacks= [early_stopping, model_chechpoint],\n",
        "                  verbose=0)\n",
        "\n",
        "#Get best classifier\n",
        "saved_clf = load_model('best_clf.h5')"
      ],
      "execution_count": 44,
      "outputs": []
    },
    {
      "cell_type": "code",
      "metadata": {
        "colab": {
          "base_uri": "https://localhost:8080/",
          "height": 312
        },
        "id": "IJSYnpc24x7N",
        "outputId": "fea2429b-352d-47bb-98b5-41ae330ef28b"
      },
      "source": [
        "#TRAINING ACCURACY HISTORY\n",
        "\n",
        "plt.plot(fitting.history['accuracy'])\n",
        "plt.plot(fitting.history['val_accuracy'])\n",
        "plt.legend(['accuracy', 'val_accuracy'])\n",
        "plt.title('model accuracy')\n",
        "plt.xlabel('epochs')\n",
        "plt.ylabel('accuraxy')\n",
        "plt.show()\n",
        "\n",
        "validation_accuracy = max(fitting.history['val_accuracy'])\n",
        "validation_loss = min(fitting.history['val_loss'])\n",
        "print(f\"Best Validation Metrics - loss : {validation_loss} - accuracy {validation_accuracy}\")"
      ],
      "execution_count": 45,
      "outputs": [
        {
          "output_type": "display_data",
          "data": {
            "image/png": "[encoded data removed]",
            "text/plain": [
              "<Figure size 432x288 with 1 Axes>"
            ]
          },
          "metadata": {
            "tags": [],
            "needs_background": "light"
          }
        },
        {
          "output_type": "stream",
          "text": [
            "Best Validation Metrics - loss : 0.3719637989997864 - accuracy 0.8557142615318298\n"
          ],
          "name": "stdout"
        }
      ]
    },
    {
      "cell_type": "code",
      "metadata": {
        "colab": {
          "base_uri": "https://localhost:8080/"
        },
        "id": "hyaC7E6hDbc7",
        "outputId": "da785d7a-a4d8-4561-c0fe-4b011b382723"
      },
      "source": [
        "#TESTING ACCURACY\n",
        "\n",
        "def accuracy(model, X_test, y_test):\n",
        "  '''Compute the accuracy of of a given model'''\n",
        "  y_prob_pred = model.predict(X_test)\n",
        "  y_pred = [int(value) for value in (y_prob_pred > 0.5)]\n",
        "  return sum([int(value) for value in (y_pred == y_test)])/len(y_test)\n",
        "\n",
        "clf_accuracy = accuracy(saved_clf, X_test, y_test)\n",
        "print(f\"Model testing accuracy : {clf_accuracy*100:.2f}%\")"
      ],
      "execution_count": 60,
      "outputs": [
        {
          "output_type": "stream",
          "text": [
            "Model testing accuracy : 86.90%\n"
          ],
          "name": "stdout"
        }
      ]
    }
  ]
}